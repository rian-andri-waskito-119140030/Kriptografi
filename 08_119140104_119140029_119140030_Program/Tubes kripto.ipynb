{
 "cells": [
  {
   "cell_type": "markdown",
   "id": "d2404b08",
   "metadata": {},
   "source": [
    "### INSTALL MODULE EKSTERNAL YANG AKAN DIBUTUHKAN UNTUK PROSES KRIPTOGRAFI DAN STEGANOGRAFI (PYCRYPTODOME, DAN PILLOW)"
   ]
  },
  {
   "cell_type": "code",
   "execution_count": 1,
   "id": "2e1db207",
   "metadata": {},
   "outputs": [
    {
     "name": "stdout",
     "output_type": "stream",
     "text": [
      "Requirement already satisfied: pycryptodome in c:\\users\\ammar\\anaconda3\\lib\\site-packages (3.14.1)\n",
      "Note: you may need to restart the kernel to use updated packages.\n",
      "Wall time: 2.33 s\n"
     ]
    }
   ],
   "source": [
    "%%time\n",
    "pip install pycryptodome"
   ]
  },
  {
   "cell_type": "code",
   "execution_count": 3,
   "id": "e044aa18",
   "metadata": {},
   "outputs": [
    {
     "name": "stdout",
     "output_type": "stream",
     "text": [
      "Requirement already satisfied: pillow in c:\\users\\ammar\\anaconda3\\lib\\site-packages (8.4.0)\n",
      "Note: you may need to restart the kernel to use updated packages.\n",
      "Wall time: 2.29 s\n"
     ]
    }
   ],
   "source": [
    "%%time\n",
    "pip install pillow"
   ]
  },
  {
   "cell_type": "markdown",
   "id": "8abf633b",
   "metadata": {},
   "source": [
    "### IMPORT MODULE YANG DIBUTUHKAN"
   ]
  },
  {
   "cell_type": "code",
   "execution_count": 27,
   "id": "f89e30b3",
   "metadata": {},
   "outputs": [
    {
     "name": "stdout",
     "output_type": "stream",
     "text": [
      "Wall time: 0 ns\n"
     ]
    }
   ],
   "source": [
    "%%time\n",
    "from secrets import token_bytes #LIBRARY INI OPSIONAL DAN HANYA DIGUNAKAN JIKA INGIN GENERATE KEY SECARA RANDOM\n",
    "from Crypto.Cipher import AES\n",
    "from Crypto.Util.Padding import pad,unpad\n",
    "from base64 import b64encode,b64decode\n",
    "from typing import Iterable\n",
    "import numpy as np\n",
    "from PIL import Image\n",
    "import hashlib as hash\n",
    "import cv2 as cv\n",
    "import matplotlib.pyplot as plt\n",
    "#library secrets opsional dan hanya dipakai jika ingin generate key secara random\n",
    "#library Crypto adalah library pycryptodome, berguna untuk proses enkripsi, dekripsi, padding, dan unpadding\n",
    "#library base64 adalah library bawaan python, digunakan untuk decode dan encode ciphertext dan initial vector menjadi karakter yang lebih mudah dibaca\n",
    "#library typing adalah library bawaan, yang digunakan untuk memproses sederet karakter/angka\n",
    "#library numpy adalah library bawaan untuk melakukan operasi array\n",
    "#library PIL (pillow) digunakan untuk manipulasi image"
   ]
  },
  {
   "cell_type": "markdown",
   "id": "0fcd949e",
   "metadata": {},
   "source": [
    "### PROSES ENKRIPSI (DAN DEKRIPSI) TEKS"
   ]
  },
  {
   "cell_type": "code",
   "execution_count": 5,
   "id": "548d57ab",
   "metadata": {},
   "outputs": [],
   "source": [
    "#kunci = token_bytes(16)\n",
    "\n",
    "#contoh kata yang mengandung 16 huruf\n",
    "#gunakan kunci token_bytes jika ingin menggunakan random generated key (ubah menjadi line aktif, jadikan kunci capekngodingbang menjadi comment)"
   ]
  },
  {
   "cell_type": "code",
   "execution_count": 6,
   "id": "fec8eaa0",
   "metadata": {},
   "outputs": [],
   "source": [
    "def enkripsi(pesan):\n",
    "  ciphering = AES.new(kunci, AES.MODE_CBC)\n",
    "  ciphered_bytes = ciphering.encrypt(pad(pesan,AES.block_size))\n",
    "  init_vector = b64encode(ciphering.iv).decode('utf-8')\n",
    "  ciphered = b64encode(ciphered_bytes).decode('utf-8')\n",
    "  return init_vector, ciphered\n",
    "\n",
    "#fungsi enkripsi, menggunakan algoritma AES mode CBC"
   ]
  },
  {
   "cell_type": "code",
   "execution_count": 7,
   "id": "d8118c89",
   "metadata": {},
   "outputs": [],
   "source": [
    "def dekripsi(init_vector,ciphered):\n",
    "  iv=b64decode(init_vector)\n",
    "  decry=b64decode(ciphered)\n",
    "  deciphering = AES.new(kunci,AES.MODE_CBC,iv)\n",
    "  plain = unpad(deciphering.decrypt(decry),AES.block_size)\n",
    "  #raising exception\n",
    "  return plain.decode('ascii')\n",
    "\n",
    "#fungsi dekripsi"
   ]
  },
  {
   "cell_type": "code",
   "execution_count": 112,
   "id": "052bc5de",
   "metadata": {},
   "outputs": [
    {
     "name": "stdout",
     "output_type": "stream",
     "text": [
      "Masukkan plaintext : \n",
      "  @media print {\n",
      "    .ms-editor-squiggles-container {\n",
      "      display:none !important;\n",
      "    }\n",
      "  }\n",
      "  .ms-editor-squiggles-container {\n",
      "    all: initial;\n",
      "  }Zhongli is a calm, reserved, and polite man, who holds an air of nostalgia. He knows much about Liyue's history and culture in part due to his time as the Geo Archon; like Venti, he has many experiences and memories, as he was a god well before The Seven even existed and one of the oldest still living in Teyvat. He holds philosophical ideas towards money and has great respect for Liyue's traditions, including those that have been forgotten or warped over time. Zhongli tends to be humble, being worried he comes off as a \"bourgeois parasite.\". Zhongli tends to forget about Mora in transactions, agreeing to spend large sums of it without having any Mora on hand and even taking \"discounts\" as granted despite being an obvious scam. He often ends up relying on his acquaintances for financial support, such as the Wangsheng Funeral Parlor or Childe. Although he works for Hu Tao, he does not like her childish behavior.\n",
      "Masukkan kunci 16 karakter : qwertyuiopasdfgh\n",
      "Wall time: 12.2 s\n"
     ]
    }
   ],
   "source": [
    "%%time\n",
    "plained = input(\"Masukkan plaintext : \")\n",
    "ky = input(\"Masukkan kunci 16 karakter : \")\n",
    "kunci = str.encode(ky)\n",
    "plained_bytes = str.encode(plained)\n",
    "throwed = enkripsi(plained_bytes)"
   ]
  },
  {
   "cell_type": "code",
   "execution_count": 113,
   "id": "52494dac",
   "metadata": {},
   "outputs": [
    {
     "name": "stdout",
     "output_type": "stream",
     "text": [
      "Initial Vector :  MPQCwMEb0VsWsbYNMhj9TQ==\n",
      "Hasil Enkripsi :  KAtXQ84eH7HZY6GQwGmpaAHL4JgX2QhU64FeFXgBwo2tfdA2yOoDfVpdGNfBiPju2i0pvNAeLd8/kdSpUDzT9l1jStninyHY+7ofo4+68fi8kP/+PsE0VpN1ZY3oLGCBXnfHBdWqzuGfKLkOXfwwYvx6ZySaq+00c6P6xAbDX5ddzp66s9MFLM3hHUmI/Ihe90vDtWX2wee1M8uXRgSG7rMZq8V5KsjJTW5iPm8mC4I2x6rErcC+K1wvu8077C2Wd6tOXaeoSUByqowqRbeRUpfIVvln6BUb3FCnfiMmxO7tCT19D3eyKnEGtRoxUZKOtX/EWFmaNu78AT27DpsqrhV5ArnR1YOpwJWFnjGEals3m9Ouj+/PBmocDzkFOpEx1uUR25+Cgy/LxpOcki+jmCGO9O7KLDV/Gae0AEQ4n7BfQeth5UXfgmqeo0JeAW5IT3/ZDH0VeoxlN7wTVux8IB4vwlb4kchoycwO9PJ2ms53c5WSfngY8A2/e1/u4txyzxqBZ5/TLc+sRiE5N1/t2PVqotj5anbE12Mo615SERrc0UBcKvvCU2jVnyFhAZtP8hPuBqJ3bFylft/rzM4LIAs9pQMm+K6Arazz2fMVMpl1N9wskPY9infPF4edu/2Q1a/aDILwT+k+X5fH4SQLEhthttbbe8DZ2c+BRIo9YfQRauIso6nlWVnzTqaalhDRBWmaZv2PH6CCdx2qBY/6bCD0CSmmH4kzDNx4qcM3s+aUVlvPtu+jUKkcftyutLreQuk1LetGiJZzrqzhBIq0QrQS/h9xrYZAAy8OKH2iKFNHwhC2oiOnzSZu16xMHBhHKbiuVTQkfPUIIdc0fj8Z/3QuVqRVg38fDiuhdNM3U3GrRwdq+Wdrhm8XSWIwL6rzHqA81w+cut7Ac5xEktsIjBST4z+TKMc83dkMDR8iewsaMaMBxhz1I6njoETAZzTQXD+5hZqpidhED5HsaAfRuMIu68dzG02UGjc1CUlqAZAFw0wZwKMjjXgskuv9vkpcHhEUXG1WhM27HHAuGNapNwq9FZei1my4grrAz06XJkTmLE6sK8DIhQqdbBba7MRp83HkC5hnWw5X4u4WbD+HqAiw4ggCg2elNeG+SJXzayuZGYWbC2yuClFjba3e9G/rTrBRSRKYrLlPiwJgRbvZapX6nXg7XT94igZSrXyCKzM+QIyMQXS53kKHGGxB4wwjGL7zGS5bPxzTEbxeF69VHw==\n",
      "Wall time: 996 µs\n"
     ]
    }
   ],
   "source": [
    "%%time\n",
    "print(\"Initial Vector : \",throwed[0])\n",
    "print(\"Hasil Enkripsi : \",throwed[1])\n",
    "\n",
    "#hasil return dari fungsi enkripsi adalah tuple yang memiliki 2 nilai, yaitu initial vector dan ciphertext"
   ]
  },
  {
   "cell_type": "code",
   "execution_count": 114,
   "id": "2f948511",
   "metadata": {},
   "outputs": [
    {
     "name": "stdout",
     "output_type": "stream",
     "text": [
      "Hasil dekripsi :  Zhongli is a calm, reserved, and polite man, who holds an air of nostalgia. He knows much about Liyue's history and culture in part due to his time as the Geo Archon; like Venti, he has many experiences and memories, as he was a god well before The Seven even existed and one of the oldest still living in Teyvat. He holds philosophical ideas towards money and has great respect for Liyue's traditions, including those that have been forgotten or warped over time. Zhongli tends to be humble, being worried he comes off as a \"bourgeois parasite.\". Zhongli tends to forget about Mora in transactions, agreeing to spend large sums of it without having any Mora on hand and even taking \"discounts\" as granted despite being an obvious scam. He often ends up relying on his acquaintances for financial support, such as the Wangsheng Funeral Parlor or Childe. Although he works for Hu Tao, he does not like her childish behavior.\n",
      "Wall time: 999 µs\n"
     ]
    }
   ],
   "source": [
    "%%time\n",
    "dekrip = dekripsi(throwed[0],throwed[1])\n",
    "print(\"Hasil dekripsi : \", dekrip)\n",
    "\n",
    "#proses dekripsi melibatkan initial vector dan ciphertext"
   ]
  },
  {
   "cell_type": "markdown",
   "id": "ad7a1005",
   "metadata": {},
   "source": [
    "### PROSES PENYISIPAN PESAN KE DALAM IMAGE (STEGANOGRAFI DOMAIN SPASIAL)"
   ]
  },
  {
   "cell_type": "code",
   "execution_count": 115,
   "id": "9bd96348",
   "metadata": {},
   "outputs": [],
   "source": [
    "def bits_provider(message) -> Iterable[int]:\n",
    "    for char in message:\n",
    "        ascii_value = ord(char)\n",
    "        for bit_position in range(8):\n",
    "            power = 7 - bit_position\n",
    "            yield 1 if ascii_value & (1 << power) else 0\n",
    "            \n",
    "#bits_provider adalah fungsi untuk mengubah character menjadi bentuk bit"
   ]
  },
  {
   "cell_type": "code",
   "execution_count": 116,
   "id": "d12a38ac",
   "metadata": {},
   "outputs": [],
   "source": [
    "def chars_provider(pixel_red_values) -> Iterable[str]:\n",
    "    ascii_value = 0\n",
    "    for i, pixel_red_value in enumerate(pixel_red_values):\n",
    "        ascii_value_bit_position = 7 - i % 8\n",
    "        if pixel_red_value & 1:\n",
    "            ascii_value |= 1 << ascii_value_bit_position\n",
    "        if ascii_value_bit_position == 0:\n",
    "            char: str = chr(ascii_value)\n",
    "            if not char.isprintable() and char != '\\n':\n",
    "                return\n",
    "\n",
    "            yield char\n",
    "\n",
    "            ascii_value = 0\n",
    "\n",
    "#chars_provider adalah fungsi untuk menerjemahkan bit dari LSB red yang diperoleh dari decode_image menjadi character"
   ]
  },
  {
   "cell_type": "code",
   "execution_count": 117,
   "id": "0f298512",
   "metadata": {},
   "outputs": [],
   "source": [
    "def clear_low_order_bits(pixels) -> None:\n",
    "    for row in range(pixels.shape[0]):\n",
    "        for col in range(pixels.shape[1]):\n",
    "            pixels[row, col, 0] &= ~1"
   ]
  },
  {
   "cell_type": "code",
   "execution_count": 118,
   "id": "90612adb",
   "metadata": {},
   "outputs": [],
   "source": [
    "def create_image(message: str, input_filename, output_filename: str) -> None:\n",
    "    img = Image.open(input_filename)\n",
    "    pixels = np.array(img)\n",
    "    img.close()\n",
    "    clear_low_order_bits(pixels)\n",
    "    for i, bit in enumerate(bits_provider(message)):\n",
    "        row = i // pixels.shape[1]\n",
    "        col = i % pixels.shape[1]\n",
    "        pixels[row, col, 0] |= bit\n",
    "    out_img = Image.fromarray(pixels)\n",
    "    out_img.save(output_filename)\n",
    "    out_img.close()\n",
    "\n",
    "#create_image membuka file cover image, lalu memperoleh array of pixel dari image tersebut\n",
    "#setelah itu message diubah ke dalam bentuk bit menggunakan bits_provider, untuk kemudian disisipkan ke dalam pixel red\n",
    "#jika loop sudah selesai, create_image akan membangun ulang image dari pixel yang telah dimodifikasi\n",
    "#file stego image akan di-save dengan nama output_filename beserta ekstensinya"
   ]
  },
  {
   "cell_type": "code",
   "execution_count": 119,
   "id": "ad34b939",
   "metadata": {},
   "outputs": [],
   "source": [
    "def decode_image(filename: str) -> str:\n",
    "    img = Image.open(filename)\n",
    "    result = ''.join(chars_provider(img.getdata(band=0)))\n",
    "    img.close()\n",
    "    return result\n",
    "\n",
    "#decode_image akan membuka file stego image, lalu memperoleh LSB red dari image tersebut\n",
    "#setelah itu, LSB red akan diteruskan ke chars_provider untuk diterjemahkan menjadi character\n",
    "#setelah character dikembalikan dari chars_provider, decode_image menggabungkan character tersebut (join)\n",
    "#jika sudah selesai, maka image di-close\n",
    "#fungsi ini mengembalikan value berupa result yang merupakan gabungan character (string) ciphertext"
   ]
  },
  {
   "cell_type": "code",
   "execution_count": 120,
   "id": "c5697d42",
   "metadata": {},
   "outputs": [],
   "source": [
    "pesan_tersisip = str(throwed[1])\n",
    "\n",
    "#karena ciphertext berbentuk bytes, dan pesan yang disisipkan harus berbentuk string, maka ciphertext tersebut harus diubah\n",
    "#ke dalam bentuk string terlebih dulu dan dimasukkan ke dalam variabel baru"
   ]
  },
  {
   "cell_type": "code",
   "execution_count": 121,
   "id": "11c32327",
   "metadata": {},
   "outputs": [
    {
     "name": "stdout",
     "output_type": "stream",
     "text": [
      "Wall time: 5.07 s\n"
     ]
    }
   ],
   "source": [
    "%%time\n",
    "create_image(pesan_tersisip, 'base_img.png','stego_img.png')\n",
    "\n",
    "#create_image adalah fungsi untuk membangun image baru yang telah berubah LSB red nya\n",
    "#create_image menerima 3 argumen\n",
    "#argumen pertama adalah teks yang ingin disisipkan\n",
    "#argumen kedua adalah nama file dan ekstensi yang menjadi cover image\n",
    "#argumen ketiga adalah nama file dan ekstensi yang menjadi stego image"
   ]
  },
  {
   "cell_type": "code",
   "execution_count": 122,
   "id": "390d9041",
   "metadata": {},
   "outputs": [
    {
     "name": "stdout",
     "output_type": "stream",
     "text": [
      "Hasil enkripsi :  KAtXQ84eH7HZY6GQwGmpaAHL4JgX2QhU64FeFXgBwo2tfdA2yOoDfVpdGNfBiPju2i0pvNAeLd8/kdSpUDzT9l1jStninyHY+7ofo4+68fi8kP/+PsE0VpN1ZY3oLGCBXnfHBdWqzuGfKLkOXfwwYvx6ZySaq+00c6P6xAbDX5ddzp66s9MFLM3hHUmI/Ihe90vDtWX2wee1M8uXRgSG7rMZq8V5KsjJTW5iPm8mC4I2x6rErcC+K1wvu8077C2Wd6tOXaeoSUByqowqRbeRUpfIVvln6BUb3FCnfiMmxO7tCT19D3eyKnEGtRoxUZKOtX/EWFmaNu78AT27DpsqrhV5ArnR1YOpwJWFnjGEals3m9Ouj+/PBmocDzkFOpEx1uUR25+Cgy/LxpOcki+jmCGO9O7KLDV/Gae0AEQ4n7BfQeth5UXfgmqeo0JeAW5IT3/ZDH0VeoxlN7wTVux8IB4vwlb4kchoycwO9PJ2ms53c5WSfngY8A2/e1/u4txyzxqBZ5/TLc+sRiE5N1/t2PVqotj5anbE12Mo615SERrc0UBcKvvCU2jVnyFhAZtP8hPuBqJ3bFylft/rzM4LIAs9pQMm+K6Arazz2fMVMpl1N9wskPY9infPF4edu/2Q1a/aDILwT+k+X5fH4SQLEhthttbbe8DZ2c+BRIo9YfQRauIso6nlWVnzTqaalhDRBWmaZv2PH6CCdx2qBY/6bCD0CSmmH4kzDNx4qcM3s+aUVlvPtu+jUKkcftyutLreQuk1LetGiJZzrqzhBIq0QrQS/h9xrYZAAy8OKH2iKFNHwhC2oiOnzSZu16xMHBhHKbiuVTQkfPUIIdc0fj8Z/3QuVqRVg38fDiuhdNM3U3GrRwdq+Wdrhm8XSWIwL6rzHqA81w+cut7Ac5xEktsIjBST4z+TKMc83dkMDR8iewsaMaMBxhz1I6njoETAZzTQXD+5hZqpidhED5HsaAfRuMIu68dzG02UGjc1CUlqAZAFw0wZwKMjjXgskuv9vkpcHhEUXG1WhM27HHAuGNapNwq9FZei1my4grrAz06XJkTmLE6sK8DIhQqdbBba7MRp83HkC5hnWw5X4u4WbD+HqAiw4ggCg2elNeG+SJXzayuZGYWbC2yuClFjba3e9G/rTrBRSRKYrLlPiwJgRbvZapX6nXg7XT94igZSrXyCKzM+QIyMQXS53kKHGGxB4wwjGL7zGS5bPxzTEbxeF69VHw==\n",
      "Plainteks :  Zhongli is a calm, reserved, and polite man, who holds an air of nostalgia. He knows much about Liyue's history and culture in part due to his time as the Geo Archon; like Venti, he has many experiences and memories, as he was a god well before The Seven even existed and one of the oldest still living in Teyvat. He holds philosophical ideas towards money and has great respect for Liyue's traditions, including those that have been forgotten or warped over time. Zhongli tends to be humble, being worried he comes off as a \"bourgeois parasite.\". Zhongli tends to forget about Mora in transactions, agreeing to spend large sums of it without having any Mora on hand and even taking \"discounts\" as granted despite being an obvious scam. He often ends up relying on his acquaintances for financial support, such as the Wangsheng Funeral Parlor or Childe. Although he works for Hu Tao, he does not like her childish behavior.\n",
      "Key : qwertyuiopasdfgh\n",
      "Wall time: 89.8 ms\n"
     ]
    }
   ],
   "source": [
    "%%time\n",
    "print('Hasil enkripsi : ', decode_image('stego_img.png'))\n",
    "print('Plainteks : ',dekripsi(throwed[0],throwed[1]))\n",
    "print('Key :', kunci.decode('ascii'))\n",
    "\n",
    "#decode_image adalah fungsi untuk memperoleh LSB red dari stego image, untuk kemudian diterjemahkan ke bentuk character\n",
    "#proses dekripsi sama seperti yang telah dilakukan di proses dekripsi sebelumnya\n",
    "#kunci di-decode terlebih dahulu untuk mengubahnya menjadi bentuk string (jika tidak, maka output akan menjadi b'capekngodingbang')"
   ]
  },
  {
   "cell_type": "code",
   "execution_count": 123,
   "id": "c3d8031b",
   "metadata": {},
   "outputs": [],
   "source": [
    "hashcekstego = hash.md5(decode_image('stego_img.png').encode())\n",
    "hashcek = hash.md5(throwed[1].encode())"
   ]
  },
  {
   "cell_type": "code",
   "execution_count": 124,
   "id": "897845ac",
   "metadata": {},
   "outputs": [
    {
     "name": "stdout",
     "output_type": "stream",
     "text": [
      "Hash ciphertext dari stego :  378ad933514a55aafee131d4b95703bb\n",
      "Hash ciphertext :  378ad933514a55aafee131d4b95703bb\n",
      "Wall time: 0 ns\n"
     ]
    }
   ],
   "source": [
    "%%time\n",
    "print(\"Hash ciphertext dari stego : \",hashcekstego.hexdigest())\n",
    "print(\"Hash ciphertext : \",hashcek.hexdigest())"
   ]
  },
  {
   "cell_type": "code",
   "execution_count": 125,
   "id": "b3c939b6",
   "metadata": {},
   "outputs": [
    {
     "name": "stdout",
     "output_type": "stream",
     "text": [
      "Hash teks enkripsi sama, tidak ditemukan perubahan data.\n"
     ]
    }
   ],
   "source": [
    "if  hashcekstego.hexdigest() == hashcek.hexdigest() :\n",
    "  print(\"Hash teks enkripsi sama, tidak ditemukan perubahan data.\")\n",
    "else:\n",
    "  print(\"Hash tidak sama\")"
   ]
  },
  {
   "cell_type": "code",
   "execution_count": 126,
   "id": "01d468ea",
   "metadata": {},
   "outputs": [],
   "source": [
    "from math import log10, sqrt"
   ]
  },
  {
   "cell_type": "code",
   "execution_count": 127,
   "id": "1ce61214",
   "metadata": {},
   "outputs": [],
   "source": [
    "def PSNR(original, stego):\n",
    "    mse = np.mean((original - stego) ** 2)\n",
    "    if(mse == 0): \n",
    "        return 100\n",
    "    pixel = 255.0\n",
    "    psnr = 20 * log10(pixel / sqrt(mse))\n",
    "    return psnr"
   ]
  },
  {
   "cell_type": "code",
   "execution_count": 128,
   "id": "d3f7404c",
   "metadata": {},
   "outputs": [
    {
     "name": "stdout",
     "output_type": "stream",
     "text": [
      "PSNR sebesar :  55.6839068243988 dB\n"
     ]
    }
   ],
   "source": [
    "original = cv.imread('base_img.png')\n",
    "stego = cv.imread('stego_img.png', 1)\n",
    "value = PSNR(original, stego)\n",
    "print(\"PSNR sebesar : \", value, \"dB\")"
   ]
  },
  {
   "cell_type": "code",
   "execution_count": 129,
   "id": "17ad29c7",
   "metadata": {},
   "outputs": [],
   "source": [
    "original_hist = cv.imread('base_img.png')\n",
    "stego_hist = cv.imread('stego_img.png')\n",
    "params = {\"ytick.color\" : \"w\",\n",
    "          \"xtick.color\" : \"w\",\n",
    "          \"axes.labelcolor\" : \"w\",\n",
    "          \"axes.edgecolor\" : \"w\"}\n",
    "plt.rcParams.update(params)"
   ]
  },
  {
   "cell_type": "code",
   "execution_count": 130,
   "id": "d177b543",
   "metadata": {},
   "outputs": [
    {
     "data": {
      "image/png": "[encoded data removed]",
      "text/plain": [
       "<Figure size 432x288 with 1 Axes>"
      ]
     },
     "metadata": {
      "needs_background": "dark"
     },
     "output_type": "display_data"
    }
   ],
   "source": [
    "color = ('b','g','r')\n",
    "plt.figure()\n",
    "for i,col in enumerate(color):\n",
    "    histr = cv.calcHist([original_hist],[i],None,[256],[0,256])\n",
    "    plt.plot(histr,color = col)\n",
    "    plt.xlim([0,256])\n",
    "plt.show()"
   ]
  },
  {
   "cell_type": "code",
   "execution_count": 131,
   "id": "3ca25acf",
   "metadata": {},
   "outputs": [
    {
     "data": {
      "image/png": "[encoded data removed]",
      "text/plain": [
       "<Figure size 432x288 with 1 Axes>"
      ]
     },
     "metadata": {
      "needs_background": "dark"
     },
     "output_type": "display_data"
    }
   ],
   "source": [
    "color = ('b','g','r')\n",
    "plt.figure()\n",
    "for i,col in enumerate(color):\n",
    "    histr = cv.calcHist([stego_hist],[i],None,[256],[0,256])\n",
    "    plt.plot(histr,color = col)\n",
    "    plt.xlim([0,256])\n",
    "plt.show()"
   ]
  },
  {
   "cell_type": "code",
   "execution_count": null,
   "id": "22d2c5e2",
   "metadata": {},
   "outputs": [],
   "source": []
  }
 ],
 "metadata": {
  "kernelspec": {
   "display_name": "Python 3 (ipykernel)",
   "language": "python",
   "name": "python3"
  },
  "language_info": {
   "codemirror_mode": {
    "name": "ipython",
    "version": 3
   },
   "file_extension": ".py",
   "mimetype": "text/x-python",
   "name": "python",
   "nbconvert_exporter": "python",
   "pygments_lexer": "ipython3",
   "version": "3.9.7"
  }
 },
 "nbformat": 4,
 "nbformat_minor": 5
}
